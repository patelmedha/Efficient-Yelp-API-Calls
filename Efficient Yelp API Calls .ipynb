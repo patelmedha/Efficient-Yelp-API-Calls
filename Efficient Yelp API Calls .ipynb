{
 "cells": [
  {
   "cell_type": "markdown",
   "id": "bc7009b3",
   "metadata": {},
   "source": [
    "# Efficient Yelp API Calls "
   ]
  },
  {
   "cell_type": "code",
   "execution_count": 1,
   "id": "30aa828c",
   "metadata": {},
   "outputs": [],
   "source": [
    "# Standard Imports\n",
    "import numpy as np\n",
    "import pandas as pd\n",
    "import matplotlib.pyplot as plt\n",
    "import seaborn as sns\n",
    "\n",
    "# Additional Imports\n",
    "# os - for saving and loading files\n",
    "# json - to work with json files\n",
    "# math - to round up results\n",
    "# time - to add a short pause to not overwhelm the server\n",
    "import os, json, math, time\n",
    "\n",
    "# to make yelpapi calls\n",
    "from yelpapi import YelpAPI\n",
    "\n",
    "# progress bar from tqdm_notebook\n",
    "from tqdm.notebook import tqdm_notebook"
   ]
  },
  {
   "cell_type": "code",
   "execution_count": 44,
   "id": "a93bd19b",
   "metadata": {},
   "outputs": [
    {
     "name": "stdout",
     "output_type": "stream",
     "text": [
      "Requirement already satisfied: yelpapi in /opt/homebrew/Caskroom/miniforge/base/envs/dojo-env/lib/python3.9/site-packages (2.5.0)\n",
      "Requirement already satisfied: requests in /opt/homebrew/Caskroom/miniforge/base/envs/dojo-env/lib/python3.9/site-packages (from yelpapi) (2.28.1)\n",
      "Requirement already satisfied: certifi>=2017.4.17 in /opt/homebrew/Caskroom/miniforge/base/envs/dojo-env/lib/python3.9/site-packages (from requests->yelpapi) (2022.9.24)\n",
      "Requirement already satisfied: charset-normalizer<3,>=2 in /opt/homebrew/Caskroom/miniforge/base/envs/dojo-env/lib/python3.9/site-packages (from requests->yelpapi) (2.0.4)\n",
      "Requirement already satisfied: urllib3<1.27,>=1.21.1 in /opt/homebrew/Caskroom/miniforge/base/envs/dojo-env/lib/python3.9/site-packages (from requests->yelpapi) (1.26.13)\n",
      "Requirement already satisfied: idna<4,>=2.5 in /opt/homebrew/Caskroom/miniforge/base/envs/dojo-env/lib/python3.9/site-packages (from requests->yelpapi) (3.4)\n",
      "Requirement already satisfied: pandas in /opt/homebrew/Caskroom/miniforge/base/envs/dojo-env/lib/python3.9/site-packages (1.5.3)\n",
      "Requirement already satisfied: python-dateutil>=2.8.1 in /opt/homebrew/Caskroom/miniforge/base/envs/dojo-env/lib/python3.9/site-packages (from pandas) (2.8.2)\n",
      "Requirement already satisfied: pytz>=2020.1 in /opt/homebrew/Caskroom/miniforge/base/envs/dojo-env/lib/python3.9/site-packages (from pandas) (2022.1)\n",
      "Requirement already satisfied: numpy>=1.20.3 in /opt/homebrew/Caskroom/miniforge/base/envs/dojo-env/lib/python3.9/site-packages (from pandas) (1.23.4)\n",
      "Requirement already satisfied: six>=1.5 in /opt/homebrew/Caskroom/miniforge/base/envs/dojo-env/lib/python3.9/site-packages (from python-dateutil>=2.8.1->pandas) (1.16.0)\n"
     ]
    }
   ],
   "source": [
    "!pip install yelpapi\n",
    "!pip install pandas"
   ]
  },
  {
   "cell_type": "markdown",
   "id": "5d146293",
   "metadata": {},
   "source": [
    "## Loading Yelp API"
   ]
  },
  {
   "cell_type": "code",
   "execution_count": 3,
   "id": "09341c78",
   "metadata": {},
   "outputs": [
    {
     "data": {
      "text/plain": [
       "dict_keys(['client-id', 'api-key'])"
      ]
     },
     "execution_count": 3,
     "metadata": {},
     "output_type": "execute_result"
    }
   ],
   "source": [
    "\n",
    "import json\n",
    "with open('/Users/patelmedzy/.secret/yelp_api.json') as f:\n",
    "    login = json.load(f)\n",
    "login.keys()"
   ]
  },
  {
   "cell_type": "code",
   "execution_count": 4,
   "id": "0d9b0a47",
   "metadata": {},
   "outputs": [
    {
     "data": {
      "text/plain": [
       "<yelpapi.yelpapi.YelpAPI at 0x1417400a0>"
      ]
     },
     "execution_count": 4,
     "metadata": {},
     "output_type": "execute_result"
    }
   ],
   "source": [
    "yelp_api = YelpAPI(login['api-key'], timeout_s=5.0)\n",
    "yelp_api"
   ]
  },
  {
   "cell_type": "markdown",
   "id": "2f565ec3",
   "metadata": {},
   "source": [
    "## Yelp API to search pizza near in my city (Richmond, Tx)"
   ]
  },
  {
   "cell_type": "code",
   "execution_count": 5,
   "id": "34af2c8c",
   "metadata": {},
   "outputs": [],
   "source": [
    "location='Richmond, TX 77407'\n",
    "term='Pizza'\n"
   ]
  },
  {
   "cell_type": "code",
   "execution_count": 6,
   "id": "855e4d78",
   "metadata": {},
   "outputs": [
    {
     "data": {
      "text/plain": [
       "'Richmond'"
      ]
     },
     "execution_count": 6,
     "metadata": {},
     "output_type": "execute_result"
    }
   ],
   "source": [
    "location.split(',')[0]"
   ]
  },
  {
   "cell_type": "code",
   "execution_count": 7,
   "id": "e72bf8d0",
   "metadata": {},
   "outputs": [],
   "source": [
    "## Specify folder for saving data\n",
    "FOLDER = 'Data/'\n",
    "\n",
    "os.makedirs(FOLDER, exist_ok = True)\n",
    "# Specifying JSON_FILE filename (can include a folder)\n",
    "JSON_FILE = FOLDER+f\"{location.split(',')[0]}-{term}.json\""
   ]
  },
  {
   "cell_type": "code",
   "execution_count": 8,
   "id": "f37692c6",
   "metadata": {},
   "outputs": [
    {
     "data": {
      "text/plain": [
       "'Data/Richmond-Pizza.json'"
      ]
     },
     "execution_count": 8,
     "metadata": {},
     "output_type": "execute_result"
    }
   ],
   "source": [
    "JSON_FILE"
   ]
  },
  {
   "cell_type": "code",
   "execution_count": 9,
   "id": "011055a1",
   "metadata": {},
   "outputs": [
    {
     "name": "stdout",
     "output_type": "stream",
     "text": [
      "[i] Data/Richmond-Pizza.json already exists.\n"
     ]
    }
   ],
   "source": [
    "## Check if JSON_FILE exists\n",
    "file_exists = os.path.isfile(JSON_FILE)\n",
    "## If it does not exist: \n",
    "if file_exists == False:    \n",
    "    ## CREATE ANY NEEDED FOLDERS\n",
    "    # Get the Folder Name only\n",
    "    folder = os.path.dirname(JSON_FILE)\n",
    "    \n",
    "    ## If JSON folder name is not empty:\n",
    "    if len(folder)>0:\n",
    "        # create the folder\n",
    "        os.makedirs(folder, exist_ok = True)\n",
    "        \n",
    "        \n",
    "    ## INFORM USER AND SAVE EMPTY LIST\n",
    "    print(f\"[i] {JSON_FILE} not found. Saving empty list to file.\")\n",
    "    \n",
    "    \n",
    "    ## save the first page of results\n",
    "    with open(JSON_FILE, 'w') as f:\n",
    "          json.dump([], f)\n",
    "        \n",
    "## If it exists, inform user\n",
    "else:\n",
    "    print(f\"[i] {JSON_FILE} already exists.\")"
   ]
  },
  {
   "cell_type": "code",
   "execution_count": 10,
   "id": "ed0a67c6",
   "metadata": {},
   "outputs": [
    {
     "data": {
      "text/plain": [
       "True"
      ]
     },
     "execution_count": 10,
     "metadata": {},
     "output_type": "execute_result"
    }
   ],
   "source": [
    "os.path.isfile(JSON_FILE)"
   ]
  },
  {
   "cell_type": "code",
   "execution_count": 24,
   "id": "5b0f9e88",
   "metadata": {},
   "outputs": [],
   "source": [
    "# use our yelp_api variable's search_query method to perform our API call\n",
    "pizza_results = yelp_api.search_query(term = term, location = location)"
   ]
  },
  {
   "cell_type": "code",
   "execution_count": 25,
   "id": "667a935a",
   "metadata": {},
   "outputs": [
    {
     "data": {
      "text/plain": [
       "dict"
      ]
     },
     "execution_count": 25,
     "metadata": {},
     "output_type": "execute_result"
    }
   ],
   "source": [
    "type(pizza_results)"
   ]
  },
  {
   "cell_type": "code",
   "execution_count": 26,
   "id": "2e85b9ec",
   "metadata": {},
   "outputs": [
    {
     "data": {
      "text/plain": [
       "3"
      ]
     },
     "execution_count": 26,
     "metadata": {},
     "output_type": "execute_result"
    }
   ],
   "source": [
    "len(pizza_results)"
   ]
  },
  {
   "cell_type": "code",
   "execution_count": 27,
   "id": "ca0ccee7",
   "metadata": {},
   "outputs": [
    {
     "data": {
      "text/plain": [
       "dict_keys(['businesses', 'total', 'region'])"
      ]
     },
     "execution_count": 27,
     "metadata": {},
     "output_type": "execute_result"
    }
   ],
   "source": [
    "pizza_results.keys()"
   ]
  },
  {
   "cell_type": "code",
   "execution_count": 28,
   "id": "f995e7b6",
   "metadata": {},
   "outputs": [
    {
     "data": {
      "text/plain": [
       "158"
      ]
     },
     "execution_count": 28,
     "metadata": {},
     "output_type": "execute_result"
    }
   ],
   "source": [
    "pizza_results['total']"
   ]
  },
  {
   "cell_type": "code",
   "execution_count": 29,
   "id": "f20fd5c5",
   "metadata": {
    "scrolled": false
   },
   "outputs": [
    {
     "data": {
      "text/plain": [
       "[{'id': 'cHToQZPO6yEfxJSMFU12sw',\n",
       "  'alias': 'fat-boys-pizza-richmond-richmond',\n",
       "  'name': \"Fat Boy's Pizza - Richmond\",\n",
       "  'image_url': 'https://s3-media2.fl.yelpcdn.com/bphoto/GTS4yw5K-OqTVeOUFZCllQ/o.jpg',\n",
       "  'is_closed': False,\n",
       "  'url': 'https://www.yelp.com/biz/fat-boys-pizza-richmond-richmond?adjust_creative=Q1Qdfk781tT6qWPSSx9wKg&utm_campaign=yelp_api_v3&utm_medium=api_v3_business_search&utm_source=Q1Qdfk781tT6qWPSSx9wKg',\n",
       "  'review_count': 62,\n",
       "  'categories': [{'alias': 'pizza', 'title': 'Pizza'},\n",
       "   {'alias': 'desserts', 'title': 'Desserts'},\n",
       "   {'alias': 'beerbar', 'title': 'Beer Bar'}],\n",
       "  'rating': 3.5,\n",
       "  'coordinates': {'latitude': 29.653703149508893,\n",
       "   'longitude': -95.70841800256004},\n",
       "  'transactions': ['pickup', 'delivery'],\n",
       "  'price': '$$',\n",
       "  'location': {'address1': '10445 W Grand Pkwy S',\n",
       "   'address2': 'Ste 150',\n",
       "   'address3': '',\n",
       "   'city': 'Richmond',\n",
       "   'zip_code': '77407',\n",
       "   'country': 'US',\n",
       "   'state': 'TX',\n",
       "   'display_address': ['10445 W Grand Pkwy S',\n",
       "    'Ste 150',\n",
       "    'Richmond, TX 77407']},\n",
       "  'phone': '+17138322182',\n",
       "  'display_phone': '(713) 832-2182',\n",
       "  'distance': 3085.8211531553234},\n",
       " {'id': 'nZ9FWG7QlbE4bYCTFJs7DQ',\n",
       "  'alias': 'cup-n-char-richmond',\n",
       "  'name': 'Cup N Char',\n",
       "  'image_url': 'https://s3-media3.fl.yelpcdn.com/bphoto/gx1e3dF0RgybsvOGVtLQGw/o.jpg',\n",
       "  'is_closed': False,\n",
       "  'url': 'https://www.yelp.com/biz/cup-n-char-richmond?adjust_creative=Q1Qdfk781tT6qWPSSx9wKg&utm_campaign=yelp_api_v3&utm_medium=api_v3_business_search&utm_source=Q1Qdfk781tT6qWPSSx9wKg',\n",
       "  'review_count': 18,\n",
       "  'categories': [{'alias': 'pizza', 'title': 'Pizza'}],\n",
       "  'rating': 5.0,\n",
       "  'coordinates': {'latitude': 29.661013325930316,\n",
       "   'longitude': -95.68641677806724},\n",
       "  'transactions': [],\n",
       "  'location': {'address1': '10450 Fm 1464',\n",
       "   'address2': 'Ste 900',\n",
       "   'address3': None,\n",
       "   'city': 'Richmond',\n",
       "   'zip_code': '77407',\n",
       "   'country': 'US',\n",
       "   'state': 'TX',\n",
       "   'display_address': ['10450 Fm 1464', 'Ste 900', 'Richmond, TX 77407']},\n",
       "  'phone': '+12819407440',\n",
       "  'display_phone': '(281) 940-7440',\n",
       "  'distance': 4228.448569209872},\n",
       " {'id': 'knuJk3YRhUgX-7NtGv3hKg',\n",
       "  'alias': 'brooklyn-pizzeria-richmond',\n",
       "  'name': 'Brooklyn Pizzeria',\n",
       "  'image_url': 'https://s3-media2.fl.yelpcdn.com/bphoto/deghxCoMYD3JFGsfDLOfdg/o.jpg',\n",
       "  'is_closed': False,\n",
       "  'url': 'https://www.yelp.com/biz/brooklyn-pizzeria-richmond?adjust_creative=Q1Qdfk781tT6qWPSSx9wKg&utm_campaign=yelp_api_v3&utm_medium=api_v3_business_search&utm_source=Q1Qdfk781tT6qWPSSx9wKg',\n",
       "  'review_count': 193,\n",
       "  'categories': [{'alias': 'pizza', 'title': 'Pizza'}],\n",
       "  'rating': 4.0,\n",
       "  'coordinates': {'latitude': 29.6609608699916, 'longitude': -95.741569352267},\n",
       "  'transactions': ['delivery'],\n",
       "  'price': '$',\n",
       "  'location': {'address1': '7930 W Grand Pkwy S',\n",
       "   'address2': '',\n",
       "   'address3': '',\n",
       "   'city': 'Richmond',\n",
       "   'zip_code': '77406',\n",
       "   'country': 'US',\n",
       "   'state': 'TX',\n",
       "   'display_address': ['7930 W Grand Pkwy S', 'Richmond, TX 77406']},\n",
       "  'phone': '+12812323333',\n",
       "  'display_phone': '(281) 232-3333',\n",
       "  'distance': 2290.9085982979054},\n",
       " {'id': 'RF0xAbGNKkTrIvlJwsLsLA',\n",
       "  'alias': 'twisted-pizza-and-curries-richmond',\n",
       "  'name': 'Twisted Pizza & Curries',\n",
       "  'image_url': 'https://s3-media2.fl.yelpcdn.com/bphoto/XFDE4kuiYgOV4zBXx8fC-Q/o.jpg',\n",
       "  'is_closed': False,\n",
       "  'url': 'https://www.yelp.com/biz/twisted-pizza-and-curries-richmond?adjust_creative=Q1Qdfk781tT6qWPSSx9wKg&utm_campaign=yelp_api_v3&utm_medium=api_v3_business_search&utm_source=Q1Qdfk781tT6qWPSSx9wKg',\n",
       "  'review_count': 50,\n",
       "  'categories': [{'alias': 'pizza', 'title': 'Pizza'},\n",
       "   {'alias': 'indpak', 'title': 'Indian'},\n",
       "   {'alias': 'chicken_wings', 'title': 'Chicken Wings'}],\n",
       "  'rating': 4.5,\n",
       "  'coordinates': {'latitude': 29.6542968, 'longitude': -95.7143275},\n",
       "  'transactions': ['pickup', 'delivery'],\n",
       "  'location': {'address1': '11131 Harlem Rd',\n",
       "   'address2': 'Ste 150',\n",
       "   'address3': None,\n",
       "   'city': 'Richmond',\n",
       "   'zip_code': '77406',\n",
       "   'country': 'US',\n",
       "   'state': 'TX',\n",
       "   'display_address': ['11131 Harlem Rd', 'Ste 150', 'Richmond, TX 77406']},\n",
       "  'phone': '+18325000023',\n",
       "  'display_phone': '(832) 500-0023',\n",
       "  'distance': 2746.648222769303},\n",
       " {'id': 'Zzn0kEXv88U24HGjvJSxGQ',\n",
       "  'alias': 'daddyo-s-pizza-katy-katy',\n",
       "  'name': 'DaddyO’s Pizza - Katy',\n",
       "  'image_url': 'https://s3-media1.fl.yelpcdn.com/bphoto/Gy9djJT8g1mqJKq_y382tg/o.jpg',\n",
       "  'is_closed': False,\n",
       "  'url': 'https://www.yelp.com/biz/daddyo-s-pizza-katy-katy?adjust_creative=Q1Qdfk781tT6qWPSSx9wKg&utm_campaign=yelp_api_v3&utm_medium=api_v3_business_search&utm_source=Q1Qdfk781tT6qWPSSx9wKg',\n",
       "  'review_count': 131,\n",
       "  'categories': [{'alias': 'pizza', 'title': 'Pizza'},\n",
       "   {'alias': 'italian', 'title': 'Italian'}],\n",
       "  'rating': 4.5,\n",
       "  'coordinates': {'latitude': 29.7288749792794,\n",
       "   'longitude': -95.7667356133645},\n",
       "  'transactions': ['pickup', 'delivery'],\n",
       "  'price': '$',\n",
       "  'location': {'address1': '6356 S Peek Rd',\n",
       "   'address2': 'Ste 1100',\n",
       "   'address3': '',\n",
       "   'city': 'Katy',\n",
       "   'zip_code': '77450',\n",
       "   'country': 'US',\n",
       "   'state': 'TX',\n",
       "   'display_address': ['6356 S Peek Rd', 'Ste 1100', 'Katy, TX 77450']},\n",
       "  'phone': '+13463770777',\n",
       "  'display_phone': '(346) 377-0777',\n",
       "  'distance': 4396.15854915001},\n",
       " {'id': 'SEMYGKDD8O0ErJ-E8d_sxw',\n",
       "  'alias': 'center-court-pizza-and-brew-richmond-3',\n",
       "  'name': 'Center Court Pizza & Brew',\n",
       "  'image_url': 'https://s3-media2.fl.yelpcdn.com/bphoto/K6WuMAAHdRWxpVwGohGXRg/o.jpg',\n",
       "  'is_closed': False,\n",
       "  'url': 'https://www.yelp.com/biz/center-court-pizza-and-brew-richmond-3?adjust_creative=Q1Qdfk781tT6qWPSSx9wKg&utm_campaign=yelp_api_v3&utm_medium=api_v3_business_search&utm_source=Q1Qdfk781tT6qWPSSx9wKg',\n",
       "  'review_count': 69,\n",
       "  'categories': [{'alias': 'chicken_wings', 'title': 'Chicken Wings'},\n",
       "   {'alias': 'pizza', 'title': 'Pizza'},\n",
       "   {'alias': 'italian', 'title': 'Italian'}],\n",
       "  'rating': 4.0,\n",
       "  'coordinates': {'latitude': 29.651672764769724,\n",
       "   'longitude': -95.70396703171046},\n",
       "  'transactions': ['pickup', 'delivery'],\n",
       "  'price': '$$',\n",
       "  'location': {'address1': '18320 W Airport Blvd',\n",
       "   'address2': 'Ste 500',\n",
       "   'address3': None,\n",
       "   'city': 'Richmond',\n",
       "   'zip_code': '77407',\n",
       "   'country': 'US',\n",
       "   'state': 'TX',\n",
       "   'display_address': ['18320 W Airport Blvd',\n",
       "    'Ste 500',\n",
       "    'Richmond, TX 77407']},\n",
       "  'phone': '+17132347120',\n",
       "  'display_phone': '(713) 234-7120',\n",
       "  'distance': 3521.0508101662376},\n",
       " {'id': '_WpiWEiXec2HsBaCDemq9Q',\n",
       "  'alias': 'lomontes-italian-restaurant-and-pizzeria-richmond-3',\n",
       "  'name': \"Lomonte's Italian Restaurant and Pizzeria\",\n",
       "  'image_url': 'https://s3-media2.fl.yelpcdn.com/bphoto/7MfgN7Hv_l_4NTvWb1b9RA/o.jpg',\n",
       "  'is_closed': False,\n",
       "  'url': 'https://www.yelp.com/biz/lomontes-italian-restaurant-and-pizzeria-richmond-3?adjust_creative=Q1Qdfk781tT6qWPSSx9wKg&utm_campaign=yelp_api_v3&utm_medium=api_v3_business_search&utm_source=Q1Qdfk781tT6qWPSSx9wKg',\n",
       "  'review_count': 510,\n",
       "  'categories': [{'alias': 'pizza', 'title': 'Pizza'},\n",
       "   {'alias': 'italian', 'title': 'Italian'},\n",
       "   {'alias': 'bars', 'title': 'Bars'}],\n",
       "  'rating': 4.5,\n",
       "  'coordinates': {'latitude': 29.624106367820428,\n",
       "   'longitude': -95.7179264894104},\n",
       "  'transactions': ['pickup', 'delivery'],\n",
       "  'price': '$$',\n",
       "  'location': {'address1': '815 Plantation Dr',\n",
       "   'address2': 'Ste 180',\n",
       "   'address3': '',\n",
       "   'city': 'Richmond',\n",
       "   'zip_code': '77406',\n",
       "   'country': 'US',\n",
       "   'state': 'TX',\n",
       "   'display_address': ['815 Plantation Dr', 'Ste 180', 'Richmond, TX 77406']},\n",
       "  'phone': '+12812328290',\n",
       "  'display_phone': '(281) 232-8290',\n",
       "  'distance': 5904.5182829570285},\n",
       " {'id': '7H49Q_dKD5QL_CZivZQV7A',\n",
       "  'alias': 'marcos-pizza-richmond',\n",
       "  'name': \"Marco's Pizza\",\n",
       "  'image_url': 'https://s3-media4.fl.yelpcdn.com/bphoto/NX4PSUS5NzUp2hCd--YxYg/o.jpg',\n",
       "  'is_closed': False,\n",
       "  'url': 'https://www.yelp.com/biz/marcos-pizza-richmond?adjust_creative=Q1Qdfk781tT6qWPSSx9wKg&utm_campaign=yelp_api_v3&utm_medium=api_v3_business_search&utm_source=Q1Qdfk781tT6qWPSSx9wKg',\n",
       "  'review_count': 63,\n",
       "  'categories': [{'alias': 'pizza', 'title': 'Pizza'}],\n",
       "  'rating': 3.5,\n",
       "  'coordinates': {'latitude': 29.67333293426642, 'longitude': -95.75204},\n",
       "  'transactions': ['pickup', 'delivery'],\n",
       "  'price': '$$',\n",
       "  'location': {'address1': '7101 W Grand Pkwy S',\n",
       "   'address2': '',\n",
       "   'address3': '',\n",
       "   'city': 'Richmond',\n",
       "   'zip_code': '77407',\n",
       "   'country': 'US',\n",
       "   'state': 'TX',\n",
       "   'display_address': ['7101 W Grand Pkwy S', 'Richmond, TX 77407']},\n",
       "  'phone': '+12812392200',\n",
       "  'display_phone': '(281) 239-2200',\n",
       "  'distance': 2516.8313560270785},\n",
       " {'id': '_UpQsv4jZdL0jv0eyKO93w',\n",
       "  'alias': 'armani-pizza-and-pasta-katy',\n",
       "  'name': 'Armani pizza and pasta',\n",
       "  'image_url': 'https://s3-media1.fl.yelpcdn.com/bphoto/hzfxMSTenAdRO1ggXj9WQw/o.jpg',\n",
       "  'is_closed': False,\n",
       "  'url': 'https://www.yelp.com/biz/armani-pizza-and-pasta-katy?adjust_creative=Q1Qdfk781tT6qWPSSx9wKg&utm_campaign=yelp_api_v3&utm_medium=api_v3_business_search&utm_source=Q1Qdfk781tT6qWPSSx9wKg',\n",
       "  'review_count': 2,\n",
       "  'categories': [{'alias': 'pizza', 'title': 'Pizza'},\n",
       "   {'alias': 'italian', 'title': 'Italian'},\n",
       "   {'alias': 'pastashops', 'title': 'Pasta Shops'}],\n",
       "  'rating': 5.0,\n",
       "  'coordinates': {'latitude': 29.703939043898767,\n",
       "   'longitude': -95.74362051973424},\n",
       "  'transactions': ['pickup', 'delivery'],\n",
       "  'location': {'address1': '6868 S Mason Rd Katy Tx 77450',\n",
       "   'address2': None,\n",
       "   'address3': '',\n",
       "   'city': 'Katy',\n",
       "   'zip_code': '77450',\n",
       "   'country': 'US',\n",
       "   'state': 'TX',\n",
       "   'display_address': ['6868 S Mason Rd Katy Tx 77450', 'Katy, TX 77450']},\n",
       "  'phone': '+12816764441',\n",
       "  'display_phone': '(281) 676-4441',\n",
       "  'distance': 3460.3298862875054},\n",
       " {'id': 'LCFDyfgqTcDVLN-Eywdf5g',\n",
       "  'alias': 'crust-pizza-katy',\n",
       "  'name': 'Crust Pizza',\n",
       "  'image_url': 'https://s3-media1.fl.yelpcdn.com/bphoto/zUQKtzBv098aMq8zUiNFyQ/o.jpg',\n",
       "  'is_closed': False,\n",
       "  'url': 'https://www.yelp.com/biz/crust-pizza-katy?adjust_creative=Q1Qdfk781tT6qWPSSx9wKg&utm_campaign=yelp_api_v3&utm_medium=api_v3_business_search&utm_source=Q1Qdfk781tT6qWPSSx9wKg',\n",
       "  'review_count': 97,\n",
       "  'categories': [{'alias': 'pizza', 'title': 'Pizza'},\n",
       "   {'alias': 'italian', 'title': 'Italian'},\n",
       "   {'alias': 'wine_bars', 'title': 'Wine Bars'}],\n",
       "  'rating': 4.0,\n",
       "  'coordinates': {'latitude': 29.73666847855678,\n",
       "   'longitude': -95.81321589497884},\n",
       "  'transactions': [],\n",
       "  'location': {'address1': '9920 Gaston Rd',\n",
       "   'address2': 'Ste 200',\n",
       "   'address3': '',\n",
       "   'city': 'Katy',\n",
       "   'zip_code': '77494',\n",
       "   'country': 'US',\n",
       "   'state': 'TX',\n",
       "   'display_address': ['9920 Gaston Rd', 'Ste 200', 'Katy, TX 77494']},\n",
       "  'phone': '+12817699920',\n",
       "  'display_phone': '(281) 769-9920',\n",
       "  'distance': 10721.494557744334},\n",
       " {'id': 'GMtR05cmTIzdFyKEP0KgOQ',\n",
       "  'alias': 'mod-pizza-richmond',\n",
       "  'name': 'MOD Pizza',\n",
       "  'image_url': 'https://s3-media2.fl.yelpcdn.com/bphoto/dyzrmuj5JJCcla7TrU05Cw/o.jpg',\n",
       "  'is_closed': False,\n",
       "  'url': 'https://www.yelp.com/biz/mod-pizza-richmond?adjust_creative=Q1Qdfk781tT6qWPSSx9wKg&utm_campaign=yelp_api_v3&utm_medium=api_v3_business_search&utm_source=Q1Qdfk781tT6qWPSSx9wKg',\n",
       "  'review_count': 101,\n",
       "  'categories': [{'alias': 'hotdogs', 'title': 'Fast Food'},\n",
       "   {'alias': 'pizza', 'title': 'Pizza'}],\n",
       "  'rating': 4.0,\n",
       "  'coordinates': {'latitude': 29.659293459343715,\n",
       "   'longitude': -95.71159515993678},\n",
       "  'transactions': ['pickup', 'delivery'],\n",
       "  'price': '$$',\n",
       "  'location': {'address1': '10173 W Grand Pkwy S',\n",
       "   'address2': 'Ste 104',\n",
       "   'address3': None,\n",
       "   'city': 'Richmond',\n",
       "   'zip_code': '77407',\n",
       "   'country': 'US',\n",
       "   'state': 'TX',\n",
       "   'display_address': ['10173 W Grand Pkwy S',\n",
       "    'Ste 104',\n",
       "    'Richmond, TX 77407']},\n",
       "  'phone': '+18325585534',\n",
       "  'display_phone': '(832) 558-5534',\n",
       "  'distance': 2400.6160718144906},\n",
       " {'id': 'jeIk2IP_k-9hNKrWJruv0g',\n",
       "  'alias': 'russos-new-york-pizzeria-and-italian-kitchen-richmond',\n",
       "  'name': \"Russo's New York Pizzeria and Italian Kitchen\",\n",
       "  'image_url': 'https://s3-media3.fl.yelpcdn.com/bphoto/cbM-Afz6FHaBZ2C_ZjTSfQ/o.jpg',\n",
       "  'is_closed': False,\n",
       "  'url': 'https://www.yelp.com/biz/russos-new-york-pizzeria-and-italian-kitchen-richmond?adjust_creative=Q1Qdfk781tT6qWPSSx9wKg&utm_campaign=yelp_api_v3&utm_medium=api_v3_business_search&utm_source=Q1Qdfk781tT6qWPSSx9wKg',\n",
       "  'review_count': 193,\n",
       "  'categories': [{'alias': 'pizza', 'title': 'Pizza'},\n",
       "   {'alias': 'italian', 'title': 'Italian'},\n",
       "   {'alias': 'pastashops', 'title': 'Pasta Shops'}],\n",
       "  'rating': 3.5,\n",
       "  'coordinates': {'latitude': 29.6930221, 'longitude': -95.7729849},\n",
       "  'transactions': ['pickup', 'delivery'],\n",
       "  'price': '$$',\n",
       "  'location': {'address1': '5530 West Grand Pkwy S',\n",
       "   'address2': 'Ste 200',\n",
       "   'address3': None,\n",
       "   'city': 'Richmond',\n",
       "   'zip_code': '77406',\n",
       "   'country': 'US',\n",
       "   'state': 'TX',\n",
       "   'display_address': ['5530 West Grand Pkwy S',\n",
       "    'Ste 200',\n",
       "    'Richmond, TX 77406']},\n",
       "  'phone': '+12812396336',\n",
       "  'display_phone': '(281) 239-6336',\n",
       "  'distance': 4862.773035757159},\n",
       " {'id': 'IvuVwVDyhn5aqYTM2aMHSw',\n",
       "  'alias': 'pizza-novo-katy-3',\n",
       "  'name': 'Pizza Novo',\n",
       "  'image_url': 'https://s3-media1.fl.yelpcdn.com/bphoto/p0HIxHnb8zs91ITkqJsK3g/o.jpg',\n",
       "  'is_closed': False,\n",
       "  'url': 'https://www.yelp.com/biz/pizza-novo-katy-3?adjust_creative=Q1Qdfk781tT6qWPSSx9wKg&utm_campaign=yelp_api_v3&utm_medium=api_v3_business_search&utm_source=Q1Qdfk781tT6qWPSSx9wKg',\n",
       "  'review_count': 8,\n",
       "  'categories': [{'alias': 'pizza', 'title': 'Pizza'},\n",
       "   {'alias': 'chicken_wings', 'title': 'Chicken Wings'},\n",
       "   {'alias': 'sandwiches', 'title': 'Sandwiches'}],\n",
       "  'rating': 3.5,\n",
       "  'coordinates': {'latitude': 29.7141, 'longitude': -95.77469},\n",
       "  'transactions': ['pickup', 'delivery'],\n",
       "  'location': {'address1': '6711 S Fry Rd',\n",
       "   'address2': '',\n",
       "   'address3': None,\n",
       "   'city': 'Katy',\n",
       "   'zip_code': '77494',\n",
       "   'country': 'US',\n",
       "   'state': 'TX',\n",
       "   'display_address': ['6711 S Fry Rd', 'Katy, TX 77494']},\n",
       "  'phone': '+12813956400',\n",
       "  'display_phone': '(281) 395-6400',\n",
       "  'distance': 6286.830675694112},\n",
       " {'id': 'lYUe51kC74k-GCojxZclng',\n",
       "  'alias': 'rosatis-richmond',\n",
       "  'name': \"Rosati's\",\n",
       "  'image_url': 'https://s3-media4.fl.yelpcdn.com/bphoto/fXaYB3NPi70wqojy92OSfQ/o.jpg',\n",
       "  'is_closed': False,\n",
       "  'url': 'https://www.yelp.com/biz/rosatis-richmond?adjust_creative=Q1Qdfk781tT6qWPSSx9wKg&utm_campaign=yelp_api_v3&utm_medium=api_v3_business_search&utm_source=Q1Qdfk781tT6qWPSSx9wKg',\n",
       "  'review_count': 212,\n",
       "  'categories': [{'alias': 'pizza', 'title': 'Pizza'}],\n",
       "  'rating': 3.5,\n",
       "  'coordinates': {'latitude': 29.69375640700149,\n",
       "   'longitude': -95.81374368447084},\n",
       "  'transactions': ['pickup', 'delivery'],\n",
       "  'price': '$$',\n",
       "  'location': {'address1': '9111 Farm To Market Rd 723',\n",
       "   'address2': 'Ste 250',\n",
       "   'address3': '',\n",
       "   'city': 'Richmond',\n",
       "   'zip_code': '77406',\n",
       "   'country': 'US',\n",
       "   'state': 'TX',\n",
       "   'display_address': ['9111 Farm To Market Rd 723',\n",
       "    'Ste 250',\n",
       "    'Richmond, TX 77406']},\n",
       "  'phone': '+12812397924',\n",
       "  'display_phone': '(281) 239-7924',\n",
       "  'distance': 8659.14683548377},\n",
       " {'id': '6dbPSVEinF-qoaTZsoCuUw',\n",
       "  'alias': 'big-zs-pizza-house-and-brew-katy',\n",
       "  'name': \"BIG Z's Pizza House & Brew\",\n",
       "  'image_url': 'https://s3-media3.fl.yelpcdn.com/bphoto/rn1EuWNaxstOMG17eSlUJw/o.jpg',\n",
       "  'is_closed': False,\n",
       "  'url': 'https://www.yelp.com/biz/big-zs-pizza-house-and-brew-katy?adjust_creative=Q1Qdfk781tT6qWPSSx9wKg&utm_campaign=yelp_api_v3&utm_medium=api_v3_business_search&utm_source=Q1Qdfk781tT6qWPSSx9wKg',\n",
       "  'review_count': 164,\n",
       "  'categories': [{'alias': 'pizza', 'title': 'Pizza'},\n",
       "   {'alias': 'sportsbars', 'title': 'Sports Bars'},\n",
       "   {'alias': 'chicken_wings', 'title': 'Chicken Wings'}],\n",
       "  'rating': 4.0,\n",
       "  'coordinates': {'latitude': 29.75001849494604,\n",
       "   'longitude': -95.75272745531488},\n",
       "  'transactions': ['pickup', 'delivery'],\n",
       "  'price': '$$',\n",
       "  'location': {'address1': '2004 S Mason Rd',\n",
       "   'address2': 'A1',\n",
       "   'address3': None,\n",
       "   'city': 'Katy',\n",
       "   'zip_code': '77450',\n",
       "   'country': 'US',\n",
       "   'state': 'TX',\n",
       "   'display_address': ['2004 S Mason Rd', 'A1', 'Katy, TX 77450']},\n",
       "  'phone': '+12815741788',\n",
       "  'display_phone': '(281) 574-1788',\n",
       "  'distance': 8542.469651431928},\n",
       " {'id': 'mBybBBRnJRM42AS1iJSacg',\n",
       "  'alias': 'star-pizza-katy',\n",
       "  'name': 'Star Pizza',\n",
       "  'image_url': 'https://s3-media2.fl.yelpcdn.com/bphoto/gnNQhKbImDvzIZT0cHGfqA/o.jpg',\n",
       "  'is_closed': False,\n",
       "  'url': 'https://www.yelp.com/biz/star-pizza-katy?adjust_creative=Q1Qdfk781tT6qWPSSx9wKg&utm_campaign=yelp_api_v3&utm_medium=api_v3_business_search&utm_source=Q1Qdfk781tT6qWPSSx9wKg',\n",
       "  'review_count': 143,\n",
       "  'categories': [{'alias': 'pizza', 'title': 'Pizza'}],\n",
       "  'rating': 4.0,\n",
       "  'coordinates': {'latitude': 29.73931, 'longitude': -95.78279},\n",
       "  'transactions': [],\n",
       "  'price': '$$',\n",
       "  'location': {'address1': '24210 Westheimer Pkwy',\n",
       "   'address2': 'Ste 100',\n",
       "   'address3': '',\n",
       "   'city': 'Katy',\n",
       "   'zip_code': '77494',\n",
       "   'country': 'US',\n",
       "   'state': 'TX',\n",
       "   'display_address': ['24210 Westheimer Pkwy', 'Ste 100', 'Katy, TX 77494']},\n",
       "  'phone': '+12816657768',\n",
       "  'display_phone': '(281) 665-7768',\n",
       "  'distance': 8863.499582056511},\n",
       " {'id': 'yRA7FKgAPICJG2vHR0K_XA',\n",
       "  'alias': 'grimaldis-pizzeria-katy-5',\n",
       "  'name': \"Grimaldi's Pizzeria\",\n",
       "  'image_url': 'https://s3-media3.fl.yelpcdn.com/bphoto/qPZwipakwJ50XmzotIFtew/o.jpg',\n",
       "  'is_closed': False,\n",
       "  'url': 'https://www.yelp.com/biz/grimaldis-pizzeria-katy-5?adjust_creative=Q1Qdfk781tT6qWPSSx9wKg&utm_campaign=yelp_api_v3&utm_medium=api_v3_business_search&utm_source=Q1Qdfk781tT6qWPSSx9wKg',\n",
       "  'review_count': 547,\n",
       "  'categories': [{'alias': 'pizza', 'title': 'Pizza'},\n",
       "   {'alias': 'desserts', 'title': 'Desserts'},\n",
       "   {'alias': 'beer_and_wine', 'title': 'Beer, Wine & Spirits'}],\n",
       "  'rating': 3.0,\n",
       "  'coordinates': {'latitude': 29.74075803, 'longitude': -95.77533895},\n",
       "  'transactions': ['pickup', 'delivery'],\n",
       "  'price': '$$',\n",
       "  'location': {'address1': '2643 Commercial Center Blvd',\n",
       "   'address2': 'C390',\n",
       "   'address3': '',\n",
       "   'city': 'Katy',\n",
       "   'zip_code': '77494',\n",
       "   'country': 'US',\n",
       "   'state': 'TX',\n",
       "   'display_address': ['2643 Commercial Center Blvd',\n",
       "    'C390',\n",
       "    'Katy, TX 77494']},\n",
       "  'phone': '+12815740070',\n",
       "  'display_phone': '(281) 574-0070',\n",
       "  'distance': 8554.044696174606},\n",
       " {'id': '1fdTLd9zBU1VL6ikgbas0A',\n",
       "  'alias': 'papa-johns-pizza-richmond-22',\n",
       "  'name': 'Papa Johns Pizza',\n",
       "  'image_url': 'https://s3-media2.fl.yelpcdn.com/bphoto/gK8lna4PJArBm3CF3o85tA/o.jpg',\n",
       "  'is_closed': False,\n",
       "  'url': 'https://www.yelp.com/biz/papa-johns-pizza-richmond-22?adjust_creative=Q1Qdfk781tT6qWPSSx9wKg&utm_campaign=yelp_api_v3&utm_medium=api_v3_business_search&utm_source=Q1Qdfk781tT6qWPSSx9wKg',\n",
       "  'review_count': 22,\n",
       "  'categories': [{'alias': 'pizza', 'title': 'Pizza'},\n",
       "   {'alias': 'chicken_wings', 'title': 'Chicken Wings'},\n",
       "   {'alias': 'hotdogs', 'title': 'Fast Food'}],\n",
       "  'rating': 2.5,\n",
       "  'coordinates': {'latitude': 29.663949, 'longitude': -95.745548},\n",
       "  'transactions': ['pickup', 'delivery'],\n",
       "  'price': '$',\n",
       "  'location': {'address1': '7770 W Grand Pkwy S',\n",
       "   'address2': 'Ste C',\n",
       "   'address3': '',\n",
       "   'city': 'Richmond',\n",
       "   'zip_code': '77406',\n",
       "   'country': 'US',\n",
       "   'state': 'TX',\n",
       "   'display_address': ['7770 W Grand Pkwy S', 'Ste C', 'Richmond, TX 77406']},\n",
       "  'phone': '+18324716112',\n",
       "  'display_phone': '(832) 471-6112',\n",
       "  'distance': 2333.3379501118},\n",
       " {'id': '5WLNK44aptSAPiuaxNeDOw',\n",
       "  'alias': 'tastee-pizza-and-wings-houston-2',\n",
       "  'name': 'Tastee Pizza & Wings',\n",
       "  'image_url': 'https://s3-media4.fl.yelpcdn.com/bphoto/FoQtLCyORERwWqJng_pf-g/o.jpg',\n",
       "  'is_closed': False,\n",
       "  'url': 'https://www.yelp.com/biz/tastee-pizza-and-wings-houston-2?adjust_creative=Q1Qdfk781tT6qWPSSx9wKg&utm_campaign=yelp_api_v3&utm_medium=api_v3_business_search&utm_source=Q1Qdfk781tT6qWPSSx9wKg',\n",
       "  'review_count': 103,\n",
       "  'categories': [{'alias': 'pizza', 'title': 'Pizza'},\n",
       "   {'alias': 'chicken_wings', 'title': 'Chicken Wings'}],\n",
       "  'rating': 4.0,\n",
       "  'coordinates': {'latitude': 29.679131840568857,\n",
       "   'longitude': -95.64141691776284},\n",
       "  'transactions': ['pickup'],\n",
       "  'price': '$',\n",
       "  'location': {'address1': '9203 S Texas 6',\n",
       "   'address2': '',\n",
       "   'address3': None,\n",
       "   'city': 'Houston',\n",
       "   'zip_code': '77083',\n",
       "   'country': 'US',\n",
       "   'state': 'TX',\n",
       "   'display_address': ['9203 S Texas 6', 'Houston, TX 77083']},\n",
       "  'phone': '+12815308222',\n",
       "  'display_phone': '(281) 530-8222',\n",
       "  'distance': 8202.945685216804},\n",
       " {'id': 'jROLCQjN0jRjtKtZnR9yoQ',\n",
       "  'alias': 'pane-e-vino-ristorante-italiano-richmond',\n",
       "  'name': 'Pane e Vino Ristorante Italiano',\n",
       "  'image_url': 'https://s3-media4.fl.yelpcdn.com/bphoto/yU3YPJuamXMRLDaMmumMsg/o.jpg',\n",
       "  'is_closed': False,\n",
       "  'url': 'https://www.yelp.com/biz/pane-e-vino-ristorante-italiano-richmond?adjust_creative=Q1Qdfk781tT6qWPSSx9wKg&utm_campaign=yelp_api_v3&utm_medium=api_v3_business_search&utm_source=Q1Qdfk781tT6qWPSSx9wKg',\n",
       "  'review_count': 284,\n",
       "  'categories': [{'alias': 'italian', 'title': 'Italian'},\n",
       "   {'alias': 'pizza', 'title': 'Pizza'},\n",
       "   {'alias': 'wine_bars', 'title': 'Wine Bars'}],\n",
       "  'rating': 4.0,\n",
       "  'coordinates': {'latitude': 29.698313237765273,\n",
       "   'longitude': -95.79080624461768},\n",
       "  'transactions': ['pickup', 'delivery'],\n",
       "  'price': '$$',\n",
       "  'location': {'address1': '7109 Katy - Gaston Rd',\n",
       "   'address2': 'Ste 1000',\n",
       "   'address3': '',\n",
       "   'city': 'Richmond',\n",
       "   'zip_code': '77406',\n",
       "   'country': 'US',\n",
       "   'state': 'TX',\n",
       "   'display_address': ['7109 Katy - Gaston Rd',\n",
       "    'Ste 1000',\n",
       "    'Richmond, TX 77406']},\n",
       "  'phone': '+12813912222',\n",
       "  'display_phone': '(281) 391-2222',\n",
       "  'distance': 6680.095302887552}]"
      ]
     },
     "execution_count": 29,
     "metadata": {},
     "output_type": "execute_result"
    }
   ],
   "source": [
    "pizza_results['businesses']"
   ]
  },
  {
   "cell_type": "code",
   "execution_count": 30,
   "id": "7613eede",
   "metadata": {},
   "outputs": [
    {
     "data": {
      "text/plain": [
       "{'center': {'longitude': -95.72628021240234, 'latitude': 29.676708410974392}}"
      ]
     },
     "execution_count": 30,
     "metadata": {},
     "output_type": "execute_result"
    }
   ],
   "source": [
    "pizza_results['region']"
   ]
  },
  {
   "cell_type": "code",
   "execution_count": 31,
   "id": "c53075e9",
   "metadata": {},
   "outputs": [],
   "source": [
    "pizza = pd.DataFrame(pizza_results['businesses'])"
   ]
  },
  {
   "cell_type": "code",
   "execution_count": 36,
   "id": "cd3390f3",
   "metadata": {},
   "outputs": [
    {
     "data": {
      "text/html": [
       "<div>\n",
       "<style scoped>\n",
       "    .dataframe tbody tr th:only-of-type {\n",
       "        vertical-align: middle;\n",
       "    }\n",
       "\n",
       "    .dataframe tbody tr th {\n",
       "        vertical-align: top;\n",
       "    }\n",
       "\n",
       "    .dataframe thead th {\n",
       "        text-align: right;\n",
       "    }\n",
       "</style>\n",
       "<table border=\"1\" class=\"dataframe\">\n",
       "  <thead>\n",
       "    <tr style=\"text-align: right;\">\n",
       "      <th></th>\n",
       "      <th>id</th>\n",
       "      <th>alias</th>\n",
       "      <th>name</th>\n",
       "      <th>image_url</th>\n",
       "      <th>is_closed</th>\n",
       "      <th>url</th>\n",
       "      <th>review_count</th>\n",
       "      <th>categories</th>\n",
       "      <th>rating</th>\n",
       "      <th>coordinates</th>\n",
       "      <th>transactions</th>\n",
       "      <th>price</th>\n",
       "      <th>location</th>\n",
       "      <th>phone</th>\n",
       "      <th>display_phone</th>\n",
       "      <th>distance</th>\n",
       "    </tr>\n",
       "  </thead>\n",
       "  <tbody>\n",
       "    <tr>\n",
       "      <th>0</th>\n",
       "      <td>cHToQZPO6yEfxJSMFU12sw</td>\n",
       "      <td>fat-boys-pizza-richmond-richmond</td>\n",
       "      <td>Fat Boy's Pizza - Richmond</td>\n",
       "      <td>https://s3-media2.fl.yelpcdn.com/bphoto/GTS4yw...</td>\n",
       "      <td>False</td>\n",
       "      <td>https://www.yelp.com/biz/fat-boys-pizza-richmo...</td>\n",
       "      <td>62</td>\n",
       "      <td>[{'alias': 'pizza', 'title': 'Pizza'}, {'alias...</td>\n",
       "      <td>3.5</td>\n",
       "      <td>{'latitude': 29.653703149508893, 'longitude': ...</td>\n",
       "      <td>[pickup, delivery]</td>\n",
       "      <td>$$</td>\n",
       "      <td>{'address1': '10445 W Grand Pkwy S', 'address2...</td>\n",
       "      <td>+17138322182</td>\n",
       "      <td>(713) 832-2182</td>\n",
       "      <td>3085.821153</td>\n",
       "    </tr>\n",
       "    <tr>\n",
       "      <th>1</th>\n",
       "      <td>nZ9FWG7QlbE4bYCTFJs7DQ</td>\n",
       "      <td>cup-n-char-richmond</td>\n",
       "      <td>Cup N Char</td>\n",
       "      <td>https://s3-media3.fl.yelpcdn.com/bphoto/gx1e3d...</td>\n",
       "      <td>False</td>\n",
       "      <td>https://www.yelp.com/biz/cup-n-char-richmond?a...</td>\n",
       "      <td>18</td>\n",
       "      <td>[{'alias': 'pizza', 'title': 'Pizza'}]</td>\n",
       "      <td>5.0</td>\n",
       "      <td>{'latitude': 29.661013325930316, 'longitude': ...</td>\n",
       "      <td>[]</td>\n",
       "      <td>NaN</td>\n",
       "      <td>{'address1': '10450 Fm 1464', 'address2': 'Ste...</td>\n",
       "      <td>+12819407440</td>\n",
       "      <td>(281) 940-7440</td>\n",
       "      <td>4228.448569</td>\n",
       "    </tr>\n",
       "  </tbody>\n",
       "</table>\n",
       "</div>"
      ],
      "text/plain": [
       "                       id                             alias  \\\n",
       "0  cHToQZPO6yEfxJSMFU12sw  fat-boys-pizza-richmond-richmond   \n",
       "1  nZ9FWG7QlbE4bYCTFJs7DQ               cup-n-char-richmond   \n",
       "\n",
       "                         name  \\\n",
       "0  Fat Boy's Pizza - Richmond   \n",
       "1                  Cup N Char   \n",
       "\n",
       "                                           image_url  is_closed  \\\n",
       "0  https://s3-media2.fl.yelpcdn.com/bphoto/GTS4yw...      False   \n",
       "1  https://s3-media3.fl.yelpcdn.com/bphoto/gx1e3d...      False   \n",
       "\n",
       "                                                 url  review_count  \\\n",
       "0  https://www.yelp.com/biz/fat-boys-pizza-richmo...            62   \n",
       "1  https://www.yelp.com/biz/cup-n-char-richmond?a...            18   \n",
       "\n",
       "                                          categories  rating  \\\n",
       "0  [{'alias': 'pizza', 'title': 'Pizza'}, {'alias...     3.5   \n",
       "1             [{'alias': 'pizza', 'title': 'Pizza'}]     5.0   \n",
       "\n",
       "                                         coordinates        transactions  \\\n",
       "0  {'latitude': 29.653703149508893, 'longitude': ...  [pickup, delivery]   \n",
       "1  {'latitude': 29.661013325930316, 'longitude': ...                  []   \n",
       "\n",
       "  price                                           location         phone  \\\n",
       "0    $$  {'address1': '10445 W Grand Pkwy S', 'address2...  +17138322182   \n",
       "1   NaN  {'address1': '10450 Fm 1464', 'address2': 'Ste...  +12819407440   \n",
       "\n",
       "    display_phone     distance  \n",
       "0  (713) 832-2182  3085.821153  \n",
       "1  (281) 940-7440  4228.448569  "
      ]
     },
     "execution_count": 36,
     "metadata": {},
     "output_type": "execute_result"
    }
   ],
   "source": [
    "pizza.head(2)"
   ]
  },
  {
   "cell_type": "code",
   "execution_count": 37,
   "id": "0dc91c83",
   "metadata": {},
   "outputs": [
    {
     "data": {
      "text/plain": [
       "20"
      ]
     },
     "execution_count": 37,
     "metadata": {},
     "output_type": "execute_result"
    }
   ],
   "source": [
    "results_per_page = len(pizza_results['businesses'])\n",
    "results_per_page"
   ]
  },
  {
   "cell_type": "code",
   "execution_count": 38,
   "id": "00e8a185",
   "metadata": {},
   "outputs": [
    {
     "data": {
      "text/plain": [
       "7.9"
      ]
     },
     "execution_count": 38,
     "metadata": {},
     "output_type": "execute_result"
    }
   ],
   "source": [
    "(pizza_results['total'])/ results_per_page"
   ]
  },
  {
   "cell_type": "code",
   "execution_count": 39,
   "id": "2696a0cd",
   "metadata": {},
   "outputs": [
    {
     "data": {
      "text/plain": [
       "8"
      ]
     },
     "execution_count": 39,
     "metadata": {},
     "output_type": "execute_result"
    }
   ],
   "source": [
    "# Use math.ceil to round up for the total number of pages of results.\n",
    "n_pages = math.ceil((pizza_results['total'])/ results_per_page)\n",
    "n_pages"
   ]
  },
  {
   "cell_type": "markdown",
   "id": "5d8f5220",
   "metadata": {},
   "source": [
    "## Compiling extracted search results into a Dataframe"
   ]
  },
  {
   "cell_type": "code",
   "execution_count": 42,
   "id": "27da8fd5",
   "metadata": {},
   "outputs": [
    {
     "name": "stdout",
     "output_type": "stream",
     "text": [
      "Requirement already satisfied: tqdm in /opt/homebrew/Caskroom/miniforge/base/envs/dojo-env/lib/python3.9/site-packages (4.64.1)\r\n"
     ]
    }
   ],
   "source": [
    "!pip install tqdm"
   ]
  },
  {
   "cell_type": "code",
   "execution_count": 45,
   "id": "0b783acd",
   "metadata": {},
   "outputs": [
    {
     "data": {
      "application/vnd.jupyter.widget-view+json": {
       "model_id": "f56ee272fd734a79b648fdf1f7887d81",
       "version_major": 2,
       "version_minor": 0
      },
      "text/plain": [
       "  0%|          | 0/8 [00:00<?, ?it/s]"
      ]
     },
     "metadata": {},
     "output_type": "display_data"
    }
   ],
   "source": [
    "for i in tqdm_notebook( range(1,n_pages+1)):\n",
    "    ## The block of code we want to TRY to run\n",
    "    try:\n",
    "        \n",
    "        time.sleep(.2)\n",
    "        \n",
    "        ## Read in results in progress file and check the length\n",
    "        with open(JSON_FILE, 'r') as f:\n",
    "            previous_results = json.load(f)\n",
    "        \n",
    "        ## save number of results for to use as offset\n",
    "        n_results = len(previous_results)\n",
    "        \n",
    "        \n",
    "        ## use n_results as the OFFSET \n",
    "        results = yelp_api.search_query(location = location, term=term,\n",
    "                                   offset = n_results+1)\n",
    "\n",
    "        ## append new results and save to file\n",
    "        previous_results.extend(results['businesses'])\n",
    "        \n",
    "        with open(JSON_FILE, 'w') as f:\n",
    "            json.dump(previous_results, f)\n",
    "\n",
    "            \n",
    "    ## What to do if we get an error/exception.\n",
    "    except Exception as e:\n",
    "        print('[!] ERROR', e)"
   ]
  },
  {
   "cell_type": "code",
   "execution_count": 46,
   "id": "d2c0500e",
   "metadata": {},
   "outputs": [],
   "source": [
    "df = pd.read_json(JSON_FILE)"
   ]
  },
  {
   "cell_type": "code",
   "execution_count": 47,
   "id": "f8779ba9",
   "metadata": {},
   "outputs": [
    {
     "data": {
      "text/html": [
       "<div>\n",
       "<style scoped>\n",
       "    .dataframe tbody tr th:only-of-type {\n",
       "        vertical-align: middle;\n",
       "    }\n",
       "\n",
       "    .dataframe tbody tr th {\n",
       "        vertical-align: top;\n",
       "    }\n",
       "\n",
       "    .dataframe thead th {\n",
       "        text-align: right;\n",
       "    }\n",
       "</style>\n",
       "<table border=\"1\" class=\"dataframe\">\n",
       "  <thead>\n",
       "    <tr style=\"text-align: right;\">\n",
       "      <th></th>\n",
       "      <th>id</th>\n",
       "      <th>alias</th>\n",
       "      <th>name</th>\n",
       "      <th>image_url</th>\n",
       "      <th>is_closed</th>\n",
       "      <th>url</th>\n",
       "      <th>review_count</th>\n",
       "      <th>categories</th>\n",
       "      <th>rating</th>\n",
       "      <th>coordinates</th>\n",
       "      <th>transactions</th>\n",
       "      <th>location</th>\n",
       "      <th>phone</th>\n",
       "      <th>display_phone</th>\n",
       "      <th>distance</th>\n",
       "      <th>price</th>\n",
       "    </tr>\n",
       "  </thead>\n",
       "  <tbody>\n",
       "    <tr>\n",
       "      <th>0</th>\n",
       "      <td>nZ9FWG7QlbE4bYCTFJs7DQ</td>\n",
       "      <td>cup-n-char-richmond</td>\n",
       "      <td>Cup N Char</td>\n",
       "      <td>https://s3-media3.fl.yelpcdn.com/bphoto/gx1e3d...</td>\n",
       "      <td>False</td>\n",
       "      <td>https://www.yelp.com/biz/cup-n-char-richmond?a...</td>\n",
       "      <td>18</td>\n",
       "      <td>[{'alias': 'pizza', 'title': 'Pizza'}]</td>\n",
       "      <td>5.0</td>\n",
       "      <td>{'latitude': 29.661013325930316, 'longitude': ...</td>\n",
       "      <td>[]</td>\n",
       "      <td>{'address1': '10450 Fm 1464', 'address2': 'Ste...</td>\n",
       "      <td>+12819407440</td>\n",
       "      <td>(281) 940-7440</td>\n",
       "      <td>4228.448569</td>\n",
       "      <td>NaN</td>\n",
       "    </tr>\n",
       "    <tr>\n",
       "      <th>1</th>\n",
       "      <td>knuJk3YRhUgX-7NtGv3hKg</td>\n",
       "      <td>brooklyn-pizzeria-richmond</td>\n",
       "      <td>Brooklyn Pizzeria</td>\n",
       "      <td>https://s3-media2.fl.yelpcdn.com/bphoto/deghxC...</td>\n",
       "      <td>False</td>\n",
       "      <td>https://www.yelp.com/biz/brooklyn-pizzeria-ric...</td>\n",
       "      <td>193</td>\n",
       "      <td>[{'alias': 'pizza', 'title': 'Pizza'}]</td>\n",
       "      <td>4.0</td>\n",
       "      <td>{'latitude': 29.6609608699916, 'longitude': -9...</td>\n",
       "      <td>[delivery]</td>\n",
       "      <td>{'address1': '7930 W Grand Pkwy S', 'address2'...</td>\n",
       "      <td>+12812323333</td>\n",
       "      <td>(281) 232-3333</td>\n",
       "      <td>2290.908598</td>\n",
       "      <td>$</td>\n",
       "    </tr>\n",
       "    <tr>\n",
       "      <th>2</th>\n",
       "      <td>RF0xAbGNKkTrIvlJwsLsLA</td>\n",
       "      <td>twisted-pizza-and-curries-richmond</td>\n",
       "      <td>Twisted Pizza &amp; Curries</td>\n",
       "      <td>https://s3-media2.fl.yelpcdn.com/bphoto/XFDE4k...</td>\n",
       "      <td>False</td>\n",
       "      <td>https://www.yelp.com/biz/twisted-pizza-and-cur...</td>\n",
       "      <td>50</td>\n",
       "      <td>[{'alias': 'pizza', 'title': 'Pizza'}, {'alias...</td>\n",
       "      <td>4.5</td>\n",
       "      <td>{'latitude': 29.6542968, 'longitude': -95.7143...</td>\n",
       "      <td>[delivery, pickup]</td>\n",
       "      <td>{'address1': '11131 Harlem Rd', 'address2': 'S...</td>\n",
       "      <td>+18325000023</td>\n",
       "      <td>(832) 500-0023</td>\n",
       "      <td>2746.648223</td>\n",
       "      <td>NaN</td>\n",
       "    </tr>\n",
       "    <tr>\n",
       "      <th>3</th>\n",
       "      <td>Zzn0kEXv88U24HGjvJSxGQ</td>\n",
       "      <td>daddyo-s-pizza-katy-katy</td>\n",
       "      <td>DaddyO’s Pizza - Katy</td>\n",
       "      <td>https://s3-media1.fl.yelpcdn.com/bphoto/Gy9djJ...</td>\n",
       "      <td>False</td>\n",
       "      <td>https://www.yelp.com/biz/daddyo-s-pizza-katy-k...</td>\n",
       "      <td>131</td>\n",
       "      <td>[{'alias': 'pizza', 'title': 'Pizza'}, {'alias...</td>\n",
       "      <td>4.5</td>\n",
       "      <td>{'latitude': 29.7288749792794, 'longitude': -9...</td>\n",
       "      <td>[delivery, pickup]</td>\n",
       "      <td>{'address1': '6356 S Peek Rd', 'address2': 'St...</td>\n",
       "      <td>+13463770777</td>\n",
       "      <td>(346) 377-0777</td>\n",
       "      <td>4396.158549</td>\n",
       "      <td>$</td>\n",
       "    </tr>\n",
       "    <tr>\n",
       "      <th>4</th>\n",
       "      <td>SEMYGKDD8O0ErJ-E8d_sxw</td>\n",
       "      <td>center-court-pizza-and-brew-richmond-3</td>\n",
       "      <td>Center Court Pizza &amp; Brew</td>\n",
       "      <td>https://s3-media2.fl.yelpcdn.com/bphoto/K6WuMA...</td>\n",
       "      <td>False</td>\n",
       "      <td>https://www.yelp.com/biz/center-court-pizza-an...</td>\n",
       "      <td>69</td>\n",
       "      <td>[{'alias': 'chicken_wings', 'title': 'Chicken ...</td>\n",
       "      <td>4.0</td>\n",
       "      <td>{'latitude': 29.651672764769724, 'longitude': ...</td>\n",
       "      <td>[delivery, pickup]</td>\n",
       "      <td>{'address1': '18320 W Airport Blvd', 'address2...</td>\n",
       "      <td>+17132347120</td>\n",
       "      <td>(713) 234-7120</td>\n",
       "      <td>3521.050810</td>\n",
       "      <td>$$</td>\n",
       "    </tr>\n",
       "  </tbody>\n",
       "</table>\n",
       "</div>"
      ],
      "text/plain": [
       "                       id                                   alias  \\\n",
       "0  nZ9FWG7QlbE4bYCTFJs7DQ                     cup-n-char-richmond   \n",
       "1  knuJk3YRhUgX-7NtGv3hKg              brooklyn-pizzeria-richmond   \n",
       "2  RF0xAbGNKkTrIvlJwsLsLA      twisted-pizza-and-curries-richmond   \n",
       "3  Zzn0kEXv88U24HGjvJSxGQ                daddyo-s-pizza-katy-katy   \n",
       "4  SEMYGKDD8O0ErJ-E8d_sxw  center-court-pizza-and-brew-richmond-3   \n",
       "\n",
       "                        name  \\\n",
       "0                 Cup N Char   \n",
       "1          Brooklyn Pizzeria   \n",
       "2    Twisted Pizza & Curries   \n",
       "3      DaddyO’s Pizza - Katy   \n",
       "4  Center Court Pizza & Brew   \n",
       "\n",
       "                                           image_url  is_closed  \\\n",
       "0  https://s3-media3.fl.yelpcdn.com/bphoto/gx1e3d...      False   \n",
       "1  https://s3-media2.fl.yelpcdn.com/bphoto/deghxC...      False   \n",
       "2  https://s3-media2.fl.yelpcdn.com/bphoto/XFDE4k...      False   \n",
       "3  https://s3-media1.fl.yelpcdn.com/bphoto/Gy9djJ...      False   \n",
       "4  https://s3-media2.fl.yelpcdn.com/bphoto/K6WuMA...      False   \n",
       "\n",
       "                                                 url  review_count  \\\n",
       "0  https://www.yelp.com/biz/cup-n-char-richmond?a...            18   \n",
       "1  https://www.yelp.com/biz/brooklyn-pizzeria-ric...           193   \n",
       "2  https://www.yelp.com/biz/twisted-pizza-and-cur...            50   \n",
       "3  https://www.yelp.com/biz/daddyo-s-pizza-katy-k...           131   \n",
       "4  https://www.yelp.com/biz/center-court-pizza-an...            69   \n",
       "\n",
       "                                          categories  rating  \\\n",
       "0             [{'alias': 'pizza', 'title': 'Pizza'}]     5.0   \n",
       "1             [{'alias': 'pizza', 'title': 'Pizza'}]     4.0   \n",
       "2  [{'alias': 'pizza', 'title': 'Pizza'}, {'alias...     4.5   \n",
       "3  [{'alias': 'pizza', 'title': 'Pizza'}, {'alias...     4.5   \n",
       "4  [{'alias': 'chicken_wings', 'title': 'Chicken ...     4.0   \n",
       "\n",
       "                                         coordinates        transactions  \\\n",
       "0  {'latitude': 29.661013325930316, 'longitude': ...                  []   \n",
       "1  {'latitude': 29.6609608699916, 'longitude': -9...          [delivery]   \n",
       "2  {'latitude': 29.6542968, 'longitude': -95.7143...  [delivery, pickup]   \n",
       "3  {'latitude': 29.7288749792794, 'longitude': -9...  [delivery, pickup]   \n",
       "4  {'latitude': 29.651672764769724, 'longitude': ...  [delivery, pickup]   \n",
       "\n",
       "                                            location         phone  \\\n",
       "0  {'address1': '10450 Fm 1464', 'address2': 'Ste...  +12819407440   \n",
       "1  {'address1': '7930 W Grand Pkwy S', 'address2'...  +12812323333   \n",
       "2  {'address1': '11131 Harlem Rd', 'address2': 'S...  +18325000023   \n",
       "3  {'address1': '6356 S Peek Rd', 'address2': 'St...  +13463770777   \n",
       "4  {'address1': '18320 W Airport Blvd', 'address2...  +17132347120   \n",
       "\n",
       "    display_phone     distance price  \n",
       "0  (281) 940-7440  4228.448569   NaN  \n",
       "1  (281) 232-3333  2290.908598     $  \n",
       "2  (832) 500-0023  2746.648223   NaN  \n",
       "3  (346) 377-0777  4396.158549     $  \n",
       "4  (713) 234-7120  3521.050810    $$  "
      ]
     },
     "execution_count": 47,
     "metadata": {},
     "output_type": "execute_result"
    }
   ],
   "source": [
    "df.head()"
   ]
  },
  {
   "cell_type": "code",
   "execution_count": 48,
   "id": "0e729cf9",
   "metadata": {},
   "outputs": [
    {
     "name": "stdout",
     "output_type": "stream",
     "text": [
      "<class 'pandas.core.frame.DataFrame'>\n",
      "RangeIndex: 157 entries, 0 to 156\n",
      "Data columns (total 16 columns):\n",
      " #   Column         Non-Null Count  Dtype  \n",
      "---  ------         --------------  -----  \n",
      " 0   id             157 non-null    object \n",
      " 1   alias          157 non-null    object \n",
      " 2   name           157 non-null    object \n",
      " 3   image_url      157 non-null    object \n",
      " 4   is_closed      157 non-null    bool   \n",
      " 5   url            157 non-null    object \n",
      " 6   review_count   157 non-null    int64  \n",
      " 7   categories     157 non-null    object \n",
      " 8   rating         157 non-null    float64\n",
      " 9   coordinates    157 non-null    object \n",
      " 10  transactions   157 non-null    object \n",
      " 11  location       157 non-null    object \n",
      " 12  phone          157 non-null    object \n",
      " 13  display_phone  157 non-null    object \n",
      " 14  distance       157 non-null    float64\n",
      " 15  price          120 non-null    object \n",
      "dtypes: bool(1), float64(2), int64(1), object(12)\n",
      "memory usage: 18.7+ KB\n"
     ]
    }
   ],
   "source": [
    "df.info()"
   ]
  },
  {
   "cell_type": "markdown",
   "id": "3ec21053",
   "metadata": {},
   "source": [
    "## Saving File\n",
    "- csv\n",
    "- compressed csv file "
   ]
  },
  {
   "cell_type": "code",
   "execution_count": 49,
   "id": "493e7e68",
   "metadata": {},
   "outputs": [
    {
     "data": {
      "text/plain": [
       "'Data/Richmond-Pizza.csv.gz'"
      ]
     },
     "execution_count": 49,
     "metadata": {},
     "output_type": "execute_result"
    }
   ],
   "source": [
    "## convert the filename to a .csv.gz\n",
    "csv_file = JSON_FILE.replace('.json','.csv.gz')\n",
    "csv_file"
   ]
  },
  {
   "cell_type": "code",
   "execution_count": 50,
   "id": "f5ff17e3",
   "metadata": {},
   "outputs": [],
   "source": [
    "## Save it as a compressed csv (to save space)\n",
    "df.to_csv(csv_file, compression = 'gzip', index= False)"
   ]
  },
  {
   "cell_type": "markdown",
   "id": "0469337d",
   "metadata": {},
   "source": [
    "## Comparing File Sizes"
   ]
  },
  {
   "cell_type": "code",
   "execution_count": 51,
   "id": "cf5865bd",
   "metadata": {},
   "outputs": [
    {
     "name": "stdout",
     "output_type": "stream",
     "text": [
      "JSON FILE: 154,333 Bytes\n",
      "CSV.GZ FILE: 22,843 Bytes\n",
      "the csv.gz is 6.756249179179617 times smaller!\n"
     ]
    }
   ],
   "source": [
    "# Compare filesize with os module's os.path.getsize\n",
    "size_json = os.path.getsize(JSON_FILE)\n",
    "size_csv_gz = os.path.getsize(JSON_FILE.replace('.json','.csv.gz'))\n",
    "\n",
    "print(f'JSON FILE: {size_json:,} Bytes')\n",
    "print(f'CSV.GZ FILE: {size_csv_gz:,} Bytes')\n",
    "\n",
    "print(f'the csv.gz is {size_json/size_csv_gz} times smaller!')"
   ]
  },
  {
   "cell_type": "code",
   "execution_count": null,
   "id": "786d1897",
   "metadata": {},
   "outputs": [],
   "source": []
  }
 ],
 "metadata": {
  "kernelspec": {
   "display_name": "Python (dojo-env)",
   "language": "python",
   "name": "dojo-env"
  },
  "language_info": {
   "codemirror_mode": {
    "name": "ipython",
    "version": 3
   },
   "file_extension": ".py",
   "mimetype": "text/x-python",
   "name": "python",
   "nbconvert_exporter": "python",
   "pygments_lexer": "ipython3",
   "version": "3.9.15"
  },
  "toc": {
   "base_numbering": 1,
   "nav_menu": {},
   "number_sections": false,
   "sideBar": true,
   "skip_h1_title": false,
   "title_cell": "Table of Contents",
   "title_sidebar": "Contents",
   "toc_cell": false,
   "toc_position": {},
   "toc_section_display": true,
   "toc_window_display": false
  }
 },
 "nbformat": 4,
 "nbformat_minor": 5
}
